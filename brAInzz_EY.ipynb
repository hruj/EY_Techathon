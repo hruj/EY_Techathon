{
  "nbformat": 4,
  "nbformat_minor": 0,
  "metadata": {
    "colab": {
      "name": "brAInzz_EY.ipynb",
      "provenance": [],
      "collapsed_sections": [
        "hWnVB9Wi0Mxk"
      ],
      "include_colab_link": true
    },
    "kernelspec": {
      "name": "python3",
      "display_name": "Python 3"
    }
  },
  "cells": [
    {
      "cell_type": "markdown",
      "metadata": {
        "id": "view-in-github",
        "colab_type": "text"
      },
      "source": [
        "<a href=\"https://colab.research.google.com/github/hruj/EY_Techathon/blob/main/brAInzz_EY.ipynb\" target=\"_parent\"><img src=\"https://colab.research.google.com/assets/colab-badge.svg\" alt=\"Open In Colab\"/></a>"
      ]
    },
    {
      "cell_type": "markdown",
      "metadata": {
        "id": "YLQB_Cwvz_fY"
      },
      "source": [
        "\r\n",
        "##COVID - 19 India EDA\r\n",
        "\r\n",
        "https://colab.research.google.com/drive/1UMJ57ZuiNS7GETfCnQgDTHw01b1T1vNT?usp=sharing\r\n"
      ]
    },
    {
      "cell_type": "markdown",
      "metadata": {
        "id": "cEJhRTP60F7Y"
      },
      "source": [
        "##COVID - 19 Prediction\r\n",
        "\r\n",
        "https://colab.research.google.com/drive/1iv_z2t_Ql1BmEQLq3FaGaCA6U7QAhDiQ?usp=sharing\r\n",
        "\r\n"
      ]
    },
    {
      "cell_type": "markdown",
      "metadata": {
        "id": "xHmX1ShB0c9G"
      },
      "source": [
        "##Bootstrap 4 cheatsheet\r\n",
        "\r\n",
        "https://hackerthemes.com/bootstrap-cheatsheet/"
      ]
    },
    {
      "cell_type": "markdown",
      "metadata": {
        "id": "hWnVB9Wi0Mxk"
      },
      "source": [
        "#Teachthon - brAInzz"
      ]
    }
  ]
}